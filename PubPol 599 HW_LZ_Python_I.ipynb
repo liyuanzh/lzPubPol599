{
 "cells": [
  {
   "cell_type": "markdown",
   "metadata": {},
   "source": [
    "## SESSION I: Data Structures\n",
    "\n",
    "***\n",
    "\n",
    "There is a dataset \"cities.xls\" and the homework asks to get insights by making queries. Import the dataset and have a glimpse at the data:"
   ]
  },
  {
   "cell_type": "code",
   "execution_count": 225,
   "metadata": {
    "collapsed": false
   },
   "outputs": [
    {
     "data": {
      "text/html": [
       "<div>\n",
       "<table border=\"1\" class=\"dataframe\">\n",
       "  <thead>\n",
       "    <tr style=\"text-align: right;\">\n",
       "      <th></th>\n",
       "      <th>city</th>\n",
       "      <th>region</th>\n",
       "      <th>visits2013</th>\n",
       "      <th>visits2015</th>\n",
       "    </tr>\n",
       "  </thead>\n",
       "  <tbody>\n",
       "    <tr>\n",
       "      <th>0</th>\n",
       "      <td>Bangkok</td>\n",
       "      <td>Asia</td>\n",
       "      <td>15.98</td>\n",
       "      <td>18.24</td>\n",
       "    </tr>\n",
       "    <tr>\n",
       "      <th>1</th>\n",
       "      <td>Dubai</td>\n",
       "      <td>Asia</td>\n",
       "      <td>9.89</td>\n",
       "      <td>14.26</td>\n",
       "    </tr>\n",
       "    <tr>\n",
       "      <th>2</th>\n",
       "      <td>Hong Kong</td>\n",
       "      <td>Asia</td>\n",
       "      <td>8.72</td>\n",
       "      <td>8.66</td>\n",
       "    </tr>\n",
       "    <tr>\n",
       "      <th>3</th>\n",
       "      <td>Istanbul</td>\n",
       "      <td>Europe</td>\n",
       "      <td>10.37</td>\n",
       "      <td>12.56</td>\n",
       "    </tr>\n",
       "    <tr>\n",
       "      <th>4</th>\n",
       "      <td>Kuala Lumpur</td>\n",
       "      <td>Asia</td>\n",
       "      <td>9.20</td>\n",
       "      <td>11.12</td>\n",
       "    </tr>\n",
       "  </tbody>\n",
       "</table>\n",
       "</div>"
      ],
      "text/plain": [
       "           city  region  visits2013  visits2015\n",
       "0       Bangkok    Asia       15.98       18.24\n",
       "1         Dubai    Asia        9.89       14.26\n",
       "2     Hong Kong    Asia        8.72        8.66\n",
       "3      Istanbul  Europe       10.37       12.56\n",
       "4  Kuala Lumpur    Asia        9.20       11.12"
      ]
     },
     "execution_count": 225,
     "metadata": {},
     "output_type": "execute_result"
    }
   ],
   "source": [
    "import pandas as pd\n",
    "import os\n",
    "\n",
    "folderName = '/Users/liyuanzhang/Google Drive/17Q0_PubPol599C'\n",
    "fileName = '1.cities.xlsx'\n",
    "fileExcel = os.path.join(folderName,fileName)\n",
    "\n",
    "cities = pd.read_excel(fileExcel)\n",
    "cities.head()"
   ]
  },
  {
   "cell_type": "markdown",
   "metadata": {
    "collapsed": true
   },
   "source": [
    "<br>\n",
    "**I-1. What was the most visited city in 2015?**"
   ]
  },
  {
   "cell_type": "code",
   "execution_count": 4,
   "metadata": {
    "collapsed": false
   },
   "outputs": [
    {
     "data": {
      "text/plain": [
       "5    London\n",
       "Name: city, dtype: object"
      ]
     },
     "execution_count": 4,
     "metadata": {},
     "output_type": "execute_result"
    }
   ],
   "source": [
    "cities[cities.visits2015 == max(cities.visits2015)].city"
   ]
  },
  {
   "cell_type": "markdown",
   "metadata": {},
   "source": [
    "**I-2. What was the least visited city in Asia in 2013?**"
   ]
  },
  {
   "cell_type": "code",
   "execution_count": 7,
   "metadata": {
    "collapsed": false
   },
   "outputs": [
    {
     "data": {
      "text/plain": [
       "2    Hong Kong\n",
       "Name: city, dtype: object"
      ]
     },
     "execution_count": 7,
     "metadata": {},
     "output_type": "execute_result"
    }
   ],
   "source": [
    "asia = cities[cities.region == 'Asia']\n",
    "asia[asia.visits2015 == min(asia.visits2015)].city"
   ]
  },
  {
   "cell_type": "markdown",
   "metadata": {},
   "source": [
    "**I-3. What are the three least visited cities in Asia in 2015?**"
   ]
  },
  {
   "cell_type": "code",
   "execution_count": 8,
   "metadata": {
    "collapsed": false
   },
   "outputs": [
    {
     "data": {
      "text/html": [
       "<div>\n",
       "<table border=\"1\" class=\"dataframe\">\n",
       "  <thead>\n",
       "    <tr style=\"text-align: right;\">\n",
       "      <th></th>\n",
       "      <th>city</th>\n",
       "      <th>region</th>\n",
       "      <th>visits2013</th>\n",
       "      <th>visits2015</th>\n",
       "    </tr>\n",
       "  </thead>\n",
       "  <tbody>\n",
       "    <tr>\n",
       "      <th>2</th>\n",
       "      <td>Hong Kong</td>\n",
       "      <td>Asia</td>\n",
       "      <td>8.72</td>\n",
       "      <td>8.66</td>\n",
       "    </tr>\n",
       "    <tr>\n",
       "      <th>8</th>\n",
       "      <td>Seoul</td>\n",
       "      <td>Asia</td>\n",
       "      <td>NaN</td>\n",
       "      <td>10.35</td>\n",
       "    </tr>\n",
       "    <tr>\n",
       "      <th>4</th>\n",
       "      <td>Kuala Lumpur</td>\n",
       "      <td>Asia</td>\n",
       "      <td>9.20</td>\n",
       "      <td>11.12</td>\n",
       "    </tr>\n",
       "  </tbody>\n",
       "</table>\n",
       "</div>"
      ],
      "text/plain": [
       "           city region  visits2013  visits2015\n",
       "2     Hong Kong   Asia        8.72        8.66\n",
       "8         Seoul   Asia         NaN       10.35\n",
       "4  Kuala Lumpur   Asia        9.20       11.12"
      ]
     },
     "execution_count": 8,
     "metadata": {},
     "output_type": "execute_result"
    }
   ],
   "source": [
    "asiaAsc = asia.sort_values(by = ['visits2015'], ascending = True)\n",
    "asiaAsc.iloc[[0, 1, 2]]"
   ]
  },
  {
   "cell_type": "markdown",
   "metadata": {},
   "source": [
    "**I-4. What are the most and least visited city in Asia in 2013?**"
   ]
  },
  {
   "cell_type": "code",
   "execution_count": 9,
   "metadata": {
    "collapsed": false
   },
   "outputs": [
    {
     "data": {
      "text/plain": [
       "0    Bangkok\n",
       "Name: city, dtype: object"
      ]
     },
     "execution_count": 9,
     "metadata": {},
     "output_type": "execute_result"
    }
   ],
   "source": [
    "# Most Visited\n",
    "asia[asia.visits2013 == max(asia.visits2013)].city"
   ]
  },
  {
   "cell_type": "code",
   "execution_count": 10,
   "metadata": {
    "collapsed": false
   },
   "outputs": [
    {
     "data": {
      "text/plain": [
       "2    Hong Kong\n",
       "Name: city, dtype: object"
      ]
     },
     "execution_count": 10,
     "metadata": {},
     "output_type": "execute_result"
    }
   ],
   "source": [
    "# Least Visited\n",
    "asia[asia.visits2013 == min(asia.visits2013)].city"
   ]
  },
  {
   "cell_type": "markdown",
   "metadata": {},
   "source": [
    "<br><br>\n",
    "## SESSION II: Control of Execution\n",
    "\n",
    "***\n",
    "\n",
    "**II-1 Play with for loop. Check out numpy data type**\n",
    "\n",
    "The orginial for loop:"
   ]
  },
  {
   "cell_type": "code",
   "execution_count": 13,
   "metadata": {
    "collapsed": false
   },
   "outputs": [
    {
     "name": "stdout",
     "output_type": "stream",
     "text": [
      "3.0 is the root of  9\n",
      "missing values as input\n",
      "nan is the root of  nan\n",
      "string as input\n",
      "negative value as input\n",
      "12.0 is the root of  144\n",
      "negative value as input\n"
     ]
    }
   ],
   "source": [
    "import numpy as np\n",
    "from math import sqrt\n",
    "\n",
    "values=[9,None,np.nan, '1000',-100, 144,-72]\n",
    "for value in values: # notice the order of 'IFs'\n",
    "    if value==None: # condition1\n",
    "        print ('missing values as input')\n",
    "        continue\n",
    "    if isinstance(value, str): #condition2\n",
    "        print ('string as input')\n",
    "        continue\n",
    "    if value < 0: # condition3\n",
    "        print ('negative value as input')\n",
    "        continue\n",
    "    print (sqrt(value), 'is the root of ',value)  "
   ]
  },
  {
   "cell_type": "markdown",
   "metadata": {},
   "source": [
    "*II-1-1 Change the line 'value==None' for **np.isnan**(value) and explain what happens. You want to change the values in the list to see the different outputs.*\n",
    "\n",
    "np.isnan cannot work with None."
   ]
  },
  {
   "cell_type": "code",
   "execution_count": 87,
   "metadata": {
    "collapsed": false
   },
   "outputs": [
    {
     "name": "stdout",
     "output_type": "stream",
     "text": [
      "3.0 is the root of 9\n",
      "missing values as input\n",
      "negative value as input\n",
      "12.0 is the root of 144\n",
      "negative value as input\n"
     ]
    }
   ],
   "source": [
    "import numpy as np\n",
    "values = [9, np.nan, '1000', -100, 144, -72]\n",
    "for value in values:\n",
    "    try:\n",
    "        if np.isnan(value):\n",
    "            print('missing values as input')\n",
    "            continue\n",
    "    except TypeError:\n",
    "        continue\n",
    "    if isinstance(value, str):\n",
    "        print('string as input')\n",
    "        continue\n",
    "    if value < 0:\n",
    "        print('negative value as input')\n",
    "        continue\n",
    "    print(sqrt(value), 'is the root of', value)"
   ]
  },
  {
   "cell_type": "markdown",
   "metadata": {},
   "source": [
    "*II-1-2 Change the order of all the conditions and explain what happens.*\n",
    "\n",
    "If the \"value < 0\" condition is before the other two, the non-numeric data type (None, np.nan, '1000') will break the for loop before stepping into their evaluation."
   ]
  },
  {
   "cell_type": "code",
   "execution_count": 92,
   "metadata": {
    "collapsed": false
   },
   "outputs": [
    {
     "name": "stdout",
     "output_type": "stream",
     "text": [
      "3.0 is the root of 9\n",
      "missing values as input\n",
      "negative value as input\n",
      "12.0 is the root of 144\n",
      "negative value as input\n"
     ]
    }
   ],
   "source": [
    "import numpy as np\n",
    "\n",
    "values = [9, None, np.nan, '1000', -100, 144, -72]\n",
    "for value in values:\n",
    "    try:\n",
    "        if value < 0:\n",
    "            print('negative value as input')\n",
    "            continue\n",
    "    except TypeError:\n",
    "        continue\n",
    "    if isinstance(value, str):\n",
    "        print('string as input')\n",
    "        continue\n",
    "    if pa.isnull(value):\n",
    "        print('missing values as input')\n",
    "        continue\n",
    "    print(sqrt(value), 'is the root of', value)"
   ]
  },
  {
   "cell_type": "markdown",
   "metadata": {},
   "source": [
    "*II-1-3 The function **isnull** and **notnull** from pandas are very helpful to determine if you have a missing value, change the first condition to use **isnull**.*"
   ]
  },
  {
   "cell_type": "code",
   "execution_count": 89,
   "metadata": {
    "collapsed": false
   },
   "outputs": [
    {
     "name": "stdout",
     "output_type": "stream",
     "text": [
      "3.0 is the root of 9\n",
      "missing values as input\n",
      "missing values as input\n",
      "string as input\n",
      "negative value as input\n",
      "12.0 is the root of 144\n",
      "negative value as input\n"
     ]
    }
   ],
   "source": [
    "import numpy as np\n",
    "import pandas as pa\n",
    "values = [9, None, np.nan, '1000', -100, 144, -72]\n",
    "for value in values:\n",
    "    if pa.isnull(value):\n",
    "        print('missing values as input')\n",
    "        continue\n",
    "    if isinstance(value, str):\n",
    "        print('string as input')\n",
    "        continue\n",
    "    if value < 0:\n",
    "        print('negative value as input')\n",
    "        continue\n",
    "    print(sqrt(value), 'is the root of', value)"
   ]
  },
  {
   "cell_type": "markdown",
   "metadata": {},
   "source": [
    "**II-2. Queries**\n",
    "\n",
    "*II-2-1. Change the code below to find the youngest age, and inform who has that age.*\n",
    "\n",
    "The code:"
   ]
  },
  {
   "cell_type": "code",
   "execution_count": 98,
   "metadata": {
    "collapsed": false
   },
   "outputs": [],
   "source": [
    "folderName = '/Users/liyuanzhang/Google Drive/17Q0_PubPol599C'\n",
    "fileName = '1.people.xlsx'\n",
    "fileExcel = os.path.join(folderName,fileName)\n",
    "\n",
    "people = pd.read_excel(fileExcel)\n",
    "\n",
    "numRows,numCols=people.shape\n",
    "oldestAge=0\n",
    "positionsOfOldest=[]\n",
    "countOldest=0\n",
    "\n",
    "# get the oldest age\n",
    "for position in range(numRows):\n",
    "    age = people.loc[position,'ages']\n",
    "    if oldestAge<age:\n",
    "        oldestAge=age\n",
    "\n",
    "# get position of the oldest age\n",
    "for position in range(numRows):\n",
    "    age = people.loc[position,'ages']\n",
    "    if oldestAge==age:\n",
    "        countOldest=countOldest+1\n",
    "        positionsOfOldest.append(position)"
   ]
  },
  {
   "cell_type": "markdown",
   "metadata": {},
   "source": [
    "Make the change to find the youngest age and the person:"
   ]
  },
  {
   "cell_type": "code",
   "execution_count": 116,
   "metadata": {
    "collapsed": false
   },
   "outputs": [],
   "source": [
    "youngestAge = 200\n",
    "positionsOfYoungest=[]\n",
    "\n",
    "for position in range(numRows):\n",
    "    age = people.loc[position,'ages']\n",
    "    if youngestAge > age:\n",
    "        youngestAge = age\n",
    "\n",
    "for position in range(numRows):\n",
    "    age = people.loc[position,'ages']\n",
    "    if youngestAge == age:\n",
    "        positionsOfYoungest.append(position)"
   ]
  },
  {
   "cell_type": "code",
   "execution_count": 117,
   "metadata": {
    "collapsed": false
   },
   "outputs": [
    {
     "data": {
      "text/plain": [
       "25"
      ]
     },
     "execution_count": 117,
     "metadata": {},
     "output_type": "execute_result"
    }
   ],
   "source": [
    "# The youngest age\n",
    "youngestAge"
   ]
  },
  {
   "cell_type": "code",
   "execution_count": 119,
   "metadata": {
    "collapsed": false
   },
   "outputs": [
    {
     "data": {
      "text/html": [
       "<div>\n",
       "<table border=\"1\" class=\"dataframe\">\n",
       "  <thead>\n",
       "    <tr style=\"text-align: right;\">\n",
       "      <th></th>\n",
       "      <th>cod</th>\n",
       "      <th>ages</th>\n",
       "      <th>state</th>\n",
       "      <th>education</th>\n",
       "    </tr>\n",
       "  </thead>\n",
       "  <tbody>\n",
       "    <tr>\n",
       "      <th>2</th>\n",
       "      <td>A3</td>\n",
       "      <td>25</td>\n",
       "      <td>DC</td>\n",
       "      <td>3</td>\n",
       "    </tr>\n",
       "    <tr>\n",
       "      <th>7</th>\n",
       "      <td>A8</td>\n",
       "      <td>25</td>\n",
       "      <td>NY</td>\n",
       "      <td>2</td>\n",
       "    </tr>\n",
       "    <tr>\n",
       "      <th>19</th>\n",
       "      <td>A20</td>\n",
       "      <td>25</td>\n",
       "      <td>FL</td>\n",
       "      <td>1</td>\n",
       "    </tr>\n",
       "  </tbody>\n",
       "</table>\n",
       "</div>"
      ],
      "text/plain": [
       "    cod  ages state  education\n",
       "2    A3    25    DC          3\n",
       "7    A8    25    NY          2\n",
       "19  A20    25    FL          1"
      ]
     },
     "execution_count": 119,
     "metadata": {},
     "output_type": "execute_result"
    }
   ],
   "source": [
    "# The youngest peopole\n",
    "people.iloc[positionsOfYoungest]"
   ]
  },
  {
   "cell_type": "markdown",
   "metadata": {},
   "source": [
    "*II-2-2. Redo the first two questions in the homework of session 1 using if and for (and related functions).*\n",
    "\n",
    "*REDO I-1. What was the most visited city in 2015?*"
   ]
  },
  {
   "cell_type": "code",
   "execution_count": 141,
   "metadata": {
    "collapsed": false
   },
   "outputs": [],
   "source": [
    "numRows, numCols = cities.shape\n",
    "max15 = 0\n",
    "max15p = []\n",
    "\n",
    "for position in range(numRows):\n",
    "        visits = cities.loc[position,'visits2015']\n",
    "        if visits == None:\n",
    "            continue\n",
    "        elif max15 < visits:\n",
    "            max15p = [position]\n",
    "            max15 = visits\n",
    "        elif max15 == visits:\n",
    "            max15p.append(position)"
   ]
  },
  {
   "cell_type": "code",
   "execution_count": 140,
   "metadata": {
    "collapsed": false
   },
   "outputs": [
    {
     "data": {
      "text/html": [
       "<div>\n",
       "<table border=\"1\" class=\"dataframe\">\n",
       "  <thead>\n",
       "    <tr style=\"text-align: right;\">\n",
       "      <th></th>\n",
       "      <th>city</th>\n",
       "      <th>region</th>\n",
       "      <th>visits2013</th>\n",
       "      <th>visits2015</th>\n",
       "    </tr>\n",
       "  </thead>\n",
       "  <tbody>\n",
       "    <tr>\n",
       "      <th>5</th>\n",
       "      <td>London</td>\n",
       "      <td>Europe</td>\n",
       "      <td>15.96</td>\n",
       "      <td>18.82</td>\n",
       "    </tr>\n",
       "  </tbody>\n",
       "</table>\n",
       "</div>"
      ],
      "text/plain": [
       "     city  region  visits2013  visits2015\n",
       "5  London  Europe       15.96       18.82"
      ]
     },
     "execution_count": 140,
     "metadata": {},
     "output_type": "execute_result"
    }
   ],
   "source": [
    "# The most visited city\n",
    "cities.iloc[max15p]"
   ]
  },
  {
   "cell_type": "markdown",
   "metadata": {},
   "source": [
    "*REDO I-2. What was the least visited city in Asia in 2013?*"
   ]
  },
  {
   "cell_type": "code",
   "execution_count": 142,
   "metadata": {
    "collapsed": false
   },
   "outputs": [],
   "source": [
    "min13 = 1e12\n",
    "min13p = []\n",
    "\n",
    "for position in range(numRows):\n",
    "        visits = cities.loc[position, 'visits2013']\n",
    "        region = cities.loc[position, 'region']\n",
    "        \n",
    "        if region != \"Asia\" or visits == None:\n",
    "            continue\n",
    "        elif min13 > visits:\n",
    "            min13p = [position]\n",
    "            min13 = visits\n",
    "        elif min13 == visits:\n",
    "            min13.append(position)"
   ]
  },
  {
   "cell_type": "code",
   "execution_count": 143,
   "metadata": {
    "collapsed": false
   },
   "outputs": [
    {
     "data": {
      "text/html": [
       "<div>\n",
       "<table border=\"1\" class=\"dataframe\">\n",
       "  <thead>\n",
       "    <tr style=\"text-align: right;\">\n",
       "      <th></th>\n",
       "      <th>city</th>\n",
       "      <th>region</th>\n",
       "      <th>visits2013</th>\n",
       "      <th>visits2015</th>\n",
       "    </tr>\n",
       "  </thead>\n",
       "  <tbody>\n",
       "    <tr>\n",
       "      <th>2</th>\n",
       "      <td>Hong Kong</td>\n",
       "      <td>Asia</td>\n",
       "      <td>8.72</td>\n",
       "      <td>8.66</td>\n",
       "    </tr>\n",
       "  </tbody>\n",
       "</table>\n",
       "</div>"
      ],
      "text/plain": [
       "        city region  visits2013  visits2015\n",
       "2  Hong Kong   Asia        8.72        8.66"
      ]
     },
     "execution_count": 143,
     "metadata": {},
     "output_type": "execute_result"
    }
   ],
   "source": [
    "# The least visited city\n",
    "cities.iloc[min13p]"
   ]
  },
  {
   "cell_type": "markdown",
   "metadata": {},
   "source": [
    "*II-2-3. Redo the third question in the homework of session 1 using if and for (and related functions).*\n",
    "\n",
    "*REDO I-3. What are the three least visited cities in Asia in 2015?*"
   ]
  },
  {
   "cell_type": "code",
   "execution_count": 272,
   "metadata": {
    "collapsed": false
   },
   "outputs": [],
   "source": [
    "cities1 = cities.copy()\n",
    "\n",
    "min15n = []\n",
    "min15cities = []\n",
    "\n",
    "for n in range(3):\n",
    "    min15 = 1e12\n",
    "    min15p = []\n",
    "    \n",
    "    for position in range(len(cities1)):\n",
    "        visits = cities1.loc[position].visits2015\n",
    "        region = cities1.loc[position].region\n",
    "\n",
    "        if region != \"Asia\" or visits == None:\n",
    "            continue\n",
    "        elif min15 > visits:\n",
    "            min15p = [position]\n",
    "            min15 = visits\n",
    "        elif min15 == visits:\n",
    "            min15p.append(position)\n",
    "            \n",
    "    min15n.append(min15)\n",
    "    min15cities.append(cities1.iloc[min15p].city.tolist())\n",
    "    cities1 = cities1.drop(min15p).reset_index(drop = True)"
   ]
  },
  {
   "cell_type": "code",
   "execution_count": 275,
   "metadata": {
    "collapsed": false
   },
   "outputs": [
    {
     "data": {
      "text/html": [
       "<div>\n",
       "<table border=\"1\" class=\"dataframe\">\n",
       "  <thead>\n",
       "    <tr style=\"text-align: right;\">\n",
       "      <th></th>\n",
       "      <th>city</th>\n",
       "      <th>visits2015</th>\n",
       "    </tr>\n",
       "  </thead>\n",
       "  <tbody>\n",
       "    <tr>\n",
       "      <th>0</th>\n",
       "      <td>[Hong Kong]</td>\n",
       "      <td>8.66</td>\n",
       "    </tr>\n",
       "    <tr>\n",
       "      <th>1</th>\n",
       "      <td>[Seoul]</td>\n",
       "      <td>10.35</td>\n",
       "    </tr>\n",
       "    <tr>\n",
       "      <th>2</th>\n",
       "      <td>[Kuala Lumpur]</td>\n",
       "      <td>11.12</td>\n",
       "    </tr>\n",
       "  </tbody>\n",
       "</table>\n",
       "</div>"
      ],
      "text/plain": [
       "             city  visits2015\n",
       "0     [Hong Kong]        8.66\n",
       "1         [Seoul]       10.35\n",
       "2  [Kuala Lumpur]       11.12"
      ]
     },
     "execution_count": 275,
     "metadata": {},
     "output_type": "execute_result"
    }
   ],
   "source": [
    "pd.DataFrame({'city': min15cities, 'visits2015': min15n})"
   ]
  },
  {
   "cell_type": "markdown",
   "metadata": {},
   "source": [
    "**II-3. Comprehension**"
   ]
  },
  {
   "cell_type": "code",
   "execution_count": 14,
   "metadata": {
    "collapsed": false
   },
   "outputs": [
    {
     "data": {
      "text/plain": [
       "{-121: None, 9: 3.0, 25: 5.0, 49: 7.0}"
      ]
     },
     "execution_count": 14,
     "metadata": {},
     "output_type": "execute_result"
    }
   ],
   "source": [
    "values=[9,25,49,-121]\n",
    "rootsInDict={value:(sqrt(value) if value > 0 else None) \n",
    "             for value in values}\n",
    "rootsInDict"
   ]
  },
  {
   "cell_type": "markdown",
   "metadata": {},
   "source": [
    "*II-3-1 Create a list of tuples, with the values from rootsInDict.*"
   ]
  },
  {
   "cell_type": "code",
   "execution_count": 15,
   "metadata": {
    "collapsed": false
   },
   "outputs": [
    {
     "data": {
      "text/plain": [
       "[(9, 3.0), (-121, None), (49, 7.0), (25, 5.0)]"
      ]
     },
     "execution_count": 15,
     "metadata": {},
     "output_type": "execute_result"
    }
   ],
   "source": [
    "[(key, value) for key, value in rootsInDict.items()]"
   ]
  },
  {
   "cell_type": "markdown",
   "metadata": {},
   "source": [
    "*II-3-2 Create a list with the first 10 even numbers, then using comprehension create a list with each of those values to the power of two, and using comprehension another list with each of those same values with their square root; then another comprehension to create a list of tuples combining the three lists, with each tuple holding the triplet: (number, numer to power of two, squared root of number.*"
   ]
  },
  {
   "cell_type": "code",
   "execution_count": 17,
   "metadata": {
    "collapsed": false
   },
   "outputs": [
    {
     "data": {
      "text/plain": [
       "[(2, 4, 1.4142135623730951),\n",
       " (4, 16, 2.0),\n",
       " (6, 36, 2.449489742783178),\n",
       " (8, 64, 2.8284271247461903),\n",
       " (10, 100, 3.1622776601683795),\n",
       " (12, 144, 3.4641016151377544),\n",
       " (14, 196, 3.7416573867739413),\n",
       " (16, 256, 4.0),\n",
       " (18, 324, 4.242640687119285),\n",
       " (20, 400, 4.47213595499958)]"
      ]
     },
     "execution_count": 17,
     "metadata": {},
     "output_type": "execute_result"
    }
   ],
   "source": [
    "lseven = [2 * (i + 1) for i in range(10)]\n",
    "lseven2 = [value ** 2 for value in lseven]\n",
    "lsevensqrt = [sqrt(value) for value in lseven] \n",
    "lstp = list(zip(lseven, lseven2, lsevensqrt)) \n",
    "lstp"
   ]
  },
  {
   "cell_type": "markdown",
   "metadata": {},
   "source": [
    "*II-3-3 Create a dictionary of dictionaries with the three lists created initially in the previous exercise. The dict of dicts should be named 'numPowRoot', and if you write: numPowRoot[10], your output should be {'power2': 100, 'root2': 3.1622776601683795}*"
   ]
  },
  {
   "cell_type": "code",
   "execution_count": 20,
   "metadata": {
    "collapsed": false
   },
   "outputs": [
    {
     "data": {
      "text/plain": [
       "{'power2': 100, 'root2': 3.1622776601683795}"
      ]
     },
     "execution_count": 20,
     "metadata": {},
     "output_type": "execute_result"
    }
   ],
   "source": [
    "numPowRoot = {item[0] : ({'power2': item[1], 'root2': item[2]}) \n",
    "for item in list(zip(lseven, lseven2, lsevensqrt))}\n",
    "\n",
    "numPowRoot[10]"
   ]
  },
  {
   "cell_type": "markdown",
   "metadata": {},
   "source": [
    "<br><br>\n",
    "## SESSION III: Building Functions\n",
    "\n",
    "***\n",
    "\n",
    "**III-1. Change the function below to create the function `riseToPowerPlus`, which gives a good answer even when the power is negative.**\n",
    "\n",
    "The original function:"
   ]
  },
  {
   "cell_type": "code",
   "execution_count": 24,
   "metadata": {
    "collapsed": true
   },
   "outputs": [],
   "source": [
    "def riseToPower(base,exponent=2):\n",
    "    result=1\n",
    "    \n",
    "    if exponent > 0:\n",
    "        for time in range(1,exponent+1):\n",
    "            result=result*base\n",
    "    \n",
    "    return(result)"
   ]
  },
  {
   "cell_type": "code",
   "execution_count": 39,
   "metadata": {
    "collapsed": false
   },
   "outputs": [
    {
     "data": {
      "text/plain": [
       "[81, 729, 1]"
      ]
     },
     "execution_count": 39,
     "metadata": {},
     "output_type": "execute_result"
    }
   ],
   "source": [
    "# Testing\n",
    "[riseToPower(9), riseToPower(9, 3), riseToPower(9, 0)]"
   ]
  },
  {
   "cell_type": "markdown",
   "metadata": {},
   "source": [
    "The improved one:"
   ]
  },
  {
   "cell_type": "code",
   "execution_count": 27,
   "metadata": {
    "collapsed": true
   },
   "outputs": [],
   "source": [
    "def riseToPowerPlus(base, exponent = 2):\n",
    "    result = 1\n",
    "    if exponent > 0:\n",
    "        for time in range(1, exponent+1):\n",
    "            result = result * base\n",
    "    elif exponent < 0:\n",
    "        for time in range(1, abs(exponent)+1):\n",
    "            result = result * base\n",
    "        result = 1/result\n",
    "    return(result)"
   ]
  },
  {
   "cell_type": "code",
   "execution_count": 40,
   "metadata": {
    "collapsed": false
   },
   "outputs": [
    {
     "data": {
      "text/plain": [
       "0.25"
      ]
     },
     "execution_count": 40,
     "metadata": {},
     "output_type": "execute_result"
    }
   ],
   "source": [
    "# Testing\n",
    "riseToPowerPlus(2, -2)"
   ]
  },
  {
   "cell_type": "markdown",
   "metadata": {},
   "source": [
    "**III-2. Play with the `factor` function**\n",
    "\n",
    "First have a look at the function:"
   ]
  },
  {
   "cell_type": "code",
   "execution_count": 31,
   "metadata": {
    "collapsed": true
   },
   "outputs": [],
   "source": [
    "def factors(number):\n",
    "    factorsList=[]\n",
    "    \n",
    "    for i in range(1, number + 1):\n",
    "        if number % i == 0:\n",
    "            factorsList.append(i)\n",
    "\n",
    "    return factorsList"
   ]
  },
  {
   "cell_type": "code",
   "execution_count": 41,
   "metadata": {
    "collapsed": false
   },
   "outputs": [
    {
     "data": {
      "text/plain": [
       "[1, 2, 3, 4, 6, 9, 12, 18, 36]"
      ]
     },
     "execution_count": 41,
     "metadata": {},
     "output_type": "execute_result"
    }
   ],
   "source": [
    "# Testing\n",
    "factors(36)"
   ]
  },
  {
   "cell_type": "markdown",
   "metadata": {},
   "source": [
    "*III-2-1. Change the function ‘factors’ to reduce the amount of iterations in the for loop and still get the factors shown above.*"
   ]
  },
  {
   "cell_type": "code",
   "execution_count": 34,
   "metadata": {
    "collapsed": false
   },
   "outputs": [],
   "source": [
    "def factors(number):\n",
    "    factorsList = []\n",
    "    \n",
    "    from math import sqrt\n",
    "    for i in range(1, int(sqrt(abs(number))) + 1):\n",
    "        if number % i == 0:\n",
    "            factorsList.append(i)\n",
    "            \n",
    "    import numpy as np\n",
    "    factorsList += list(number / np.array(factorsList))\n",
    "    factorsList = list(set(factorsList))\n",
    "    \n",
    "    factorsList = [int(e) for e in factorsList]\n",
    "    return sorted(factorsList)"
   ]
  },
  {
   "cell_type": "code",
   "execution_count": 42,
   "metadata": {
    "collapsed": false
   },
   "outputs": [
    {
     "data": {
      "text/plain": [
       "[1, 2, 3, 4, 6, 9, 12, 18, 36]"
      ]
     },
     "execution_count": 42,
     "metadata": {},
     "output_type": "execute_result"
    }
   ],
   "source": [
    "# Testing\n",
    "factors(36)"
   ]
  },
  {
   "cell_type": "markdown",
   "metadata": {},
   "source": [
    "*III-2-2. Change your new function ‘factors’ to avoid negative values or zeros as input; your code should return a message if an invalid valid was input.*"
   ]
  },
  {
   "cell_type": "code",
   "execution_count": 38,
   "metadata": {
    "collapsed": true
   },
   "outputs": [],
   "source": [
    "def factors(number):\n",
    "    \n",
    "    if number <= 0:\n",
    "        print('Zero or negative value detected. Program stopped.')\n",
    "        exit\n",
    "    else:\n",
    "        factorsList = []\n",
    "        \n",
    "        from math import sqrt\n",
    "        for i in range(1, int(sqrt(abs(number))) + 1):\n",
    "            if number % i == 0:\n",
    "                factorsList.append(i)\n",
    "                \n",
    "        import numpy as np\n",
    "        factorsList += list(number / np.array(factorsList))\n",
    "        factorsList = list(set(factorsList))\n",
    "        \n",
    "        factorsList = [int(e) for e in factorsList]\n",
    "        return sorted(factorsList)"
   ]
  },
  {
   "cell_type": "code",
   "execution_count": 43,
   "metadata": {
    "collapsed": false
   },
   "outputs": [
    {
     "name": "stdout",
     "output_type": "stream",
     "text": [
      "Zero or negative value detected. Program stopped.\n",
      "Zero or negative value detected. Program stopped.\n"
     ]
    },
    {
     "data": {
      "text/plain": [
       "[None, None]"
      ]
     },
     "execution_count": 43,
     "metadata": {},
     "output_type": "execute_result"
    }
   ],
   "source": [
    "# Testing\n",
    "[factors(0), factors(-20)]"
   ]
  },
  {
   "cell_type": "markdown",
   "metadata": {},
   "source": [
    "*III-2-3. Change your newest function ‘factors’ to accept only positive integer values; your code should return a message if an invalid valid was input.*"
   ]
  },
  {
   "cell_type": "code",
   "execution_count": 44,
   "metadata": {
    "collapsed": true
   },
   "outputs": [],
   "source": [
    "def factors(number):\n",
    "    \n",
    "    if number <= 0 or number % 1 !=0:\n",
    "        print('Not a positive integer. Program stopped.')\n",
    "        exit\n",
    "    else:\n",
    "        factorsList = []\n",
    "        \n",
    "        from math import sqrt\n",
    "        for i in range(1, int(sqrt(abs(number))) + 1):\n",
    "            if number % i == 0:\n",
    "                factorsList.append(i)\n",
    "                \n",
    "        import numpy as np\n",
    "        factorsList += list(number / np.array(factorsList))\n",
    "        factorsList = list(set(factorsList))\n",
    "        \n",
    "        factorsList = [int(e) for e in factorsList]\n",
    "        return sorted(factorsList)"
   ]
  },
  {
   "cell_type": "code",
   "execution_count": 46,
   "metadata": {
    "collapsed": false
   },
   "outputs": [
    {
     "name": "stdout",
     "output_type": "stream",
     "text": [
      "Not a positive integer. Program stopped.\n",
      "Not a positive integer. Program stopped.\n"
     ]
    },
    {
     "data": {
      "text/plain": [
       "[[1], [1, 2, 4, 8], None, None]"
      ]
     },
     "execution_count": 46,
     "metadata": {},
     "output_type": "execute_result"
    }
   ],
   "source": [
    "# Testing\n",
    "test = [1, 8, -1, 0.3]\n",
    "list(map(factors, test))"
   ]
  },
  {
   "cell_type": "markdown",
   "metadata": {},
   "source": [
    "**III-3. Make a function that reads two vectors and returns a data frame with those vectors and extra columns with their sum, difference, multiplication and division.**"
   ]
  },
  {
   "cell_type": "code",
   "execution_count": 47,
   "metadata": {
    "collapsed": true
   },
   "outputs": [],
   "source": [
    "def calDF(aList, bList):\n",
    "    import pandas as pd\n",
    "    \n",
    "    l = len(aList)\n",
    "    \n",
    "    sumList = [aList[i] + bList[i] for i in range(l)]\n",
    "    difList = [aList[i] - bList[i] for i in range(l)]\n",
    "    multList = [aList[i] * bList[i] for i in range(l)]\n",
    "    divList = [aList[i] / bList[i] for i in range(l)]\n",
    "        \n",
    "    answerAsDicts = {'NumberA': aList, 'NumberB': bList, \n",
    "    'Sum': sumList, 'Difference': difList,\n",
    "    'Multiplication': multList, 'Division': divList}\n",
    "    \n",
    "    return pd.DataFrame(answerAsDicts)"
   ]
  },
  {
   "cell_type": "code",
   "execution_count": 48,
   "metadata": {
    "collapsed": false
   },
   "outputs": [
    {
     "data": {
      "text/html": [
       "<div>\n",
       "<table border=\"1\" class=\"dataframe\">\n",
       "  <thead>\n",
       "    <tr style=\"text-align: right;\">\n",
       "      <th></th>\n",
       "      <th>Difference</th>\n",
       "      <th>Division</th>\n",
       "      <th>Multiplication</th>\n",
       "      <th>NumberA</th>\n",
       "      <th>NumberB</th>\n",
       "      <th>Sum</th>\n",
       "    </tr>\n",
       "  </thead>\n",
       "  <tbody>\n",
       "    <tr>\n",
       "      <th>0</th>\n",
       "      <td>-2</td>\n",
       "      <td>0.333333</td>\n",
       "      <td>3</td>\n",
       "      <td>1</td>\n",
       "      <td>3</td>\n",
       "      <td>4</td>\n",
       "    </tr>\n",
       "    <tr>\n",
       "      <th>1</th>\n",
       "      <td>-2</td>\n",
       "      <td>0.500000</td>\n",
       "      <td>8</td>\n",
       "      <td>2</td>\n",
       "      <td>4</td>\n",
       "      <td>6</td>\n",
       "    </tr>\n",
       "    <tr>\n",
       "      <th>2</th>\n",
       "      <td>-2</td>\n",
       "      <td>0.600000</td>\n",
       "      <td>15</td>\n",
       "      <td>3</td>\n",
       "      <td>5</td>\n",
       "      <td>8</td>\n",
       "    </tr>\n",
       "  </tbody>\n",
       "</table>\n",
       "</div>"
      ],
      "text/plain": [
       "   Difference  Division  Multiplication  NumberA  NumberB  Sum\n",
       "0          -2  0.333333               3        1        3    4\n",
       "1          -2  0.500000               8        2        4    6\n",
       "2          -2  0.600000              15        3        5    8"
      ]
     },
     "execution_count": 48,
     "metadata": {},
     "output_type": "execute_result"
    }
   ],
   "source": [
    "# Testing\n",
    "aLs = [1, 2, 3]\n",
    "bLs = [3, 4, 5]\n",
    "\n",
    "calDF(aLs, bLs)"
   ]
  },
  {
   "cell_type": "markdown",
   "metadata": {},
   "source": [
    "**III-4. How should you organize the input so that you get `double()` to work as it did with R vectors?**\n",
    "\n",
    "The double function:"
   ]
  },
  {
   "cell_type": "code",
   "execution_count": 49,
   "metadata": {
    "collapsed": true
   },
   "outputs": [],
   "source": [
    "def double(x):\n",
    "    return 2*x"
   ]
  },
  {
   "cell_type": "code",
   "execution_count": 51,
   "metadata": {
    "collapsed": false
   },
   "outputs": [
    {
     "data": {
      "text/plain": [
       "[2, 4, 6]"
      ]
     },
     "execution_count": 51,
     "metadata": {},
     "output_type": "execute_result"
    }
   ],
   "source": [
    "myList=[1,2,3]\n",
    "[double(e) for e in myList]"
   ]
  },
  {
   "cell_type": "markdown",
   "metadata": {},
   "source": [
    "**III-5. Applying function `strangerF` to composite structures.**\n",
    "\n",
    "*III-5-1. Understand what this function is doing*\n",
    "\n",
    "Function `strangerF` will take a series of numbers (vector/data.frame) and return one number as the result."
   ]
  },
  {
   "cell_type": "code",
   "execution_count": 53,
   "metadata": {
    "collapsed": true
   },
   "outputs": [],
   "source": [
    "def strangerF(x):\n",
    "    answer=0\n",
    "    change=True\n",
    "    for value in x:\n",
    "        if (change):\n",
    "            answer+=value\n",
    "        else:\n",
    "            answer-=value\n",
    "    \n",
    "        change= not change \n",
    "\n",
    "    return answer"
   ]
  },
  {
   "cell_type": "markdown",
   "metadata": {},
   "source": [
    "*III-5-2. Use the function above with the the file ‘dataforstrangeF.csv’, find out which way of “applying the function”\" works, that is, report whether you can apply the function directly to the data frame, to a subset of a data frame, to a column, or to a cell, and whether apply, mapply, Map, Filter, lapply work with the function or not in the data set given.*\n",
    "\n",
    "Import and understand the data:"
   ]
  },
  {
   "cell_type": "code",
   "execution_count": 55,
   "metadata": {
    "collapsed": true
   },
   "outputs": [],
   "source": [
    "folderName = '/Users/liyuanzhang/Google Drive/17Q0_PubPol599C'\n",
    "fileName = '1.dataforstrangeF.csv'\n",
    "fpth = os.path.join(folderName,fileName)\n",
    "\n",
    "dataCsv = pd.read_csv(fpth)"
   ]
  },
  {
   "cell_type": "code",
   "execution_count": 59,
   "metadata": {
    "collapsed": false
   },
   "outputs": [
    {
     "data": {
      "text/html": [
       "<div>\n",
       "<table border=\"1\" class=\"dataframe\">\n",
       "  <thead>\n",
       "    <tr style=\"text-align: right;\">\n",
       "      <th></th>\n",
       "      <th>vals1</th>\n",
       "      <th>vals2</th>\n",
       "      <th>vals3</th>\n",
       "    </tr>\n",
       "  </thead>\n",
       "  <tbody>\n",
       "    <tr>\n",
       "      <th>0</th>\n",
       "      <td>A</td>\n",
       "      <td>9</td>\n",
       "      <td>100</td>\n",
       "    </tr>\n",
       "    <tr>\n",
       "      <th>1</th>\n",
       "      <td>B</td>\n",
       "      <td>1</td>\n",
       "      <td>1</td>\n",
       "    </tr>\n",
       "    <tr>\n",
       "      <th>2</th>\n",
       "      <td>C</td>\n",
       "      <td>1</td>\n",
       "      <td>1</td>\n",
       "    </tr>\n",
       "    <tr>\n",
       "      <th>3</th>\n",
       "      <td>A</td>\n",
       "      <td>1</td>\n",
       "      <td>1</td>\n",
       "    </tr>\n",
       "    <tr>\n",
       "      <th>4</th>\n",
       "      <td>B</td>\n",
       "      <td>1</td>\n",
       "      <td>1</td>\n",
       "    </tr>\n",
       "  </tbody>\n",
       "</table>\n",
       "</div>"
      ],
      "text/plain": [
       "  vals1  vals2  vals3\n",
       "0     A      9    100\n",
       "1     B      1      1\n",
       "2     C      1      1\n",
       "3     A      1      1\n",
       "4     B      1      1"
      ]
     },
     "execution_count": 59,
     "metadata": {},
     "output_type": "execute_result"
    }
   ],
   "source": [
    "dataCsv.head()"
   ]
  },
  {
   "cell_type": "markdown",
   "metadata": {},
   "source": [
    "Subset `dataCsv` to different data types and apply the functions to each of them:"
   ]
  },
  {
   "cell_type": "code",
   "execution_count": 62,
   "metadata": {
    "collapsed": false
   },
   "outputs": [],
   "source": [
    "# Data frame containing only numeric values\n",
    "numDF = dataCsv.iloc[:, 1:3]\n",
    "\n",
    "# Number series (1 column)\n",
    "numSeries = dataCsv.iloc[:, 1]\n",
    "\n",
    "# One column as data frame\n",
    "vals2DF = dataCsv.iloc[:, [1]]"
   ]
  },
  {
   "cell_type": "markdown",
   "metadata": {},
   "source": [
    "dataCsv.iloc[:, 1]"
   ]
  },
  {
   "cell_type": "markdown",
   "metadata": {},
   "source": [
    "Now apply the `strangerF` function and check out how it works with different data types:\n",
    "\n",
    "1) TypeError: unsupported operand type(s) for +=: 'int' and 'str'\n",
    "\n",
    "```\n",
    "strangerF(dataCsv)\n",
    "list(map(strangerF, numDF)) \n",
    "```\n",
    "\n",
    "  *Note: `map` will apply the function to the column names of num DF*\n",
    "\n",
    "2) TypeError: 'numpy.int64' object is not iterable\n",
    "\n",
    "```\n",
    "list(map(strangerF, numSeries))\n",
    "numSeries.apply(strangerF)\n",
    "numDF.applymap(strangerF)\n",
    "```\n",
    "  *Note: `map` cannot apply a function with iteration to not iterable object, but the data frame \".apply\" method will work.*"
   ]
  },
  {
   "cell_type": "markdown",
   "metadata": {},
   "source": [
    "Below are conditions when the function work, along with the output:"
   ]
  },
  {
   "cell_type": "code",
   "execution_count": 67,
   "metadata": {
    "collapsed": false
   },
   "outputs": [
    {
     "data": {
      "text/plain": [
       "vals2      9\n",
       "vals3    100\n",
       "dtype: int64"
      ]
     },
     "execution_count": 67,
     "metadata": {},
     "output_type": "execute_result"
    }
   ],
   "source": [
    "numDF.apply(strangerF, axis = 0)"
   ]
  },
  {
   "cell_type": "code",
   "execution_count": 68,
   "metadata": {
    "collapsed": false
   },
   "outputs": [
    {
     "data": {
      "text/plain": [
       "0   -91\n",
       "1     0\n",
       "2     0\n",
       "3     0\n",
       "4     0\n",
       "5     0\n",
       "6     0\n",
       "7     0\n",
       "8     0\n",
       "dtype: int64"
      ]
     },
     "execution_count": 68,
     "metadata": {},
     "output_type": "execute_result"
    }
   ],
   "source": [
    "numDF.apply(strangerF, axis = 1)"
   ]
  },
  {
   "cell_type": "code",
   "execution_count": 69,
   "metadata": {
    "collapsed": false
   },
   "outputs": [
    {
     "data": {
      "text/plain": [
       "vals2    9\n",
       "dtype: int64"
      ]
     },
     "execution_count": 69,
     "metadata": {},
     "output_type": "execute_result"
    }
   ],
   "source": [
    "vals2DF.apply(strangerF)"
   ]
  },
  {
   "cell_type": "code",
   "execution_count": 73,
   "metadata": {
    "collapsed": false
   },
   "outputs": [
    {
     "data": {
      "text/plain": [
       "0    9\n",
       "1    1\n",
       "2    1\n",
       "3    1\n",
       "4    1\n",
       "5    1\n",
       "6    1\n",
       "7    1\n",
       "8    1\n",
       "dtype: int64"
      ]
     },
     "execution_count": 73,
     "metadata": {},
     "output_type": "execute_result"
    }
   ],
   "source": [
    "vals2DF.apply(strangerF, axis = 1)"
   ]
  }
 ],
 "metadata": {
  "anaconda-cloud": {
   "environment": null,
   "url": "https://anaconda.org/lucine/pubpol-599-hw_lz_python_i"
  },
  "kernelspec": {
   "display_name": "Python [default]",
   "language": "python",
   "name": "python3"
  },
  "language_info": {
   "codemirror_mode": {
    "name": "ipython",
    "version": 3
   },
   "file_extension": ".py",
   "mimetype": "text/x-python",
   "name": "python",
   "nbconvert_exporter": "python",
   "pygments_lexer": "ipython3",
   "version": "3.5.2"
  }
 },
 "nbformat": 4,
 "nbformat_minor": 1
}
